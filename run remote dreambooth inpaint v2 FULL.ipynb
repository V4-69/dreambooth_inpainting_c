{
 "cells": [
  {
   "cell_type": "code",
   "execution_count": 1,
   "id": "05ce5a5d",
   "metadata": {},
   "outputs": [
    {
     "data": {
      "text/html": [
       "<style>.container { width:95% !important; }</style>"
      ],
      "text/plain": [
       "<IPython.core.display.HTML object>"
      ]
     },
     "metadata": {},
     "output_type": "display_data"
    }
   ],
   "source": [
    "from IPython.core.display import display, HTML\n",
    "display(HTML(\"<style>.container { width:95% !important; }</style>\"))"
   ]
  },
  {
   "cell_type": "code",
   "execution_count": 2,
   "id": "5bfcd14a",
   "metadata": {},
   "outputs": [],
   "source": [
    "import os\n",
    "import random\n",
    "import numpy as np\n",
    "import subprocess"
   ]
  },
  {
   "cell_type": "code",
   "execution_count": 3,
   "id": "25bba02f",
   "metadata": {},
   "outputs": [
    {
     "name": "stdout",
     "output_type": "stream",
     "text": [
      "/home/ubuntu/dreambooth/models\n",
      "/home/ubuntu/dreambooth/workspace\n",
      "/home/ubuntu/dreambooth/workspace/side_view_inpaint_400\n",
      "/home/ubuntu/dreambooth/dreambooth_inpaining\n"
     ]
    }
   ],
   "source": [
    "Session_Name = 'side_view_inpaint_400'\n",
    "\n",
    "%cd '/home/ubuntu/dreambooth/models/'\n",
    "!mkdir $Session_Name\n",
    "\n",
    "OUTPUT_DIR = '/home/ubuntu/dreambooth/models/' + Session_Name + '/'\n",
    "\n",
    "%cd '/home/ubuntu/dreambooth/workspace'\n",
    "!mkdir $Session_Name\n",
    "\n",
    "SESSION_DIR = '/home/ubuntu/dreambooth/workspace/' + Session_Name\n",
    "\n",
    "%cd $SESSION_DIR\n",
    "!mkdir instance_images\n",
    "!mkdir captions\n",
    "\n",
    "INSTANCE_DIR = SESSION_DIR +'/instance_images'\n",
    "HOME_DIR = '/home/ubuntu/dreambooth/dreambooth_inpaining/'\n",
    "CAPTIONS_DIR = SESSION_DIR + \"/captions\"\n",
    "\n",
    "%cd {HOME_DIR}"
   ]
  },
  {
   "cell_type": "code",
   "execution_count": 11,
   "id": "d8112b0e",
   "metadata": {},
   "outputs": [],
   "source": [
    "seed = None # seed value for reproducible training\n",
    "if seed is None or seed == 0:\n",
    "    seed = random.randint(1, 999999)\n",
    "else:\n",
    "    seed = int(seed)\n",
    "\n",
    "# pretrained model name or path to be used for training\n",
    "pretrained_model_name_or_path = \"runwayml/stable-diffusion-inpainting\" \n",
    "\n",
    "# path to the directory containing the instance images for training\n",
    "instance_data_dir = INSTANCE_DIR \n",
    "\n",
    "# directory for saving model predictions and checkpoints\n",
    "output_dir = OUTPUT_DIR \n",
    "\n",
    "# directory for session data\n",
    "session_dir = SESSION_DIR \n",
    "\n",
    "# directory for captions\n",
    "captions_dir = CAPTIONS_DIR\n",
    "\n",
    "# number of steps to train the text encoder ----------------CHANGE----------------\n",
    "stop_text_encoder_training = 400 \n",
    "\n",
    "# maximum number of training steps ----------------CHANGE----------------\n",
    "max_train_steps = 3000\n",
    "\n",
    "# save the model every n global_steps ----------------CHANGE----------------\n",
    "save_n_steps = 200 \n",
    "\n",
    "# filename for image captions\n",
    "image_captions_filename = True \n",
    "\n",
    "# flag to only train the U-Net\n",
    "train_only_unet = True \n",
    "\n",
    "# starting step at which to save the model\n",
    "save_starting_step = save_n_steps \n",
    "\n",
    "# resolution for input images\n",
    "resolution = 512 \n",
    "\n",
    "# precision level for training\n",
    "mixed_precision = \"fp16\" \n",
    "\n",
    "# batch size for training\n",
    "train_batch_size = 1 \n",
    "\n",
    "# number of gradient accumulation steps\n",
    "gradient_accumulation_steps = 1 \n",
    "\n",
    "# flag to enable gradient checkpointing\n",
    "gradient_checkpointing = True \n",
    "\n",
    "# learning rate for training\n",
    "learning_rate = 1e-05 \n",
    "\n",
    "# learning rate scheduler to use\n",
    "lr_scheduler = \"polynomial\" \n",
    "\n",
    "# number of warmup steps for the learning rate scheduler\n",
    "lr_warmup_steps = 0 \n",
    "\n",
    "# prompt identifying the instance images\n",
    "instance_prompt = \"\" \n",
    "\n",
    "# whether training should be resumed from a previous checkpoint. Use a path saved by `--checkpointing_steps`, or `\"latest\"` to automatically select the last available checkpoint.\n",
    "resume_from_checkpoint = None \n",
    "\n",
    "\n",
    "\n",
    "#tokenizer_name = None # tokenizer name or path to be used with the model\n",
    "#class_data_dir = None # path to the directory containing the class images for training, if applicable\n",
    "#class_prompt = \"\" # prompt identifying the class images, if applicable\n",
    "#with_prior_preservation = False # flag to include prior preservation loss in training\n",
    "#prior_loss_weight = 1.0 # weight of the prior preservation loss\n",
    "#num_class_images = 100 # minimum number of class images for prior preservation loss\n",
    "#center_crop = False # flag to center crop images before resizing to resolution\n",
    "\n",
    "def train(pretrained_model_name_or_path, stop_text_encoder_training, max_train_steps, resume_from_checkpoint):\n",
    "    \n",
    "    image_captions_filename_arg = ''\n",
    "    if image_captions_filename:\n",
    "        image_captions_filename_arg = '--image_captions_filename'\n",
    "    \n",
    "    gradient_checkpointing_arg = ''\n",
    "    if gradient_checkpointing:\n",
    "        gradient_checkpointing_arg = '--gradient_checkpointing'\n",
    "        \n",
    "    train_only_unet_arg = ''\n",
    "    if train_only_unet:\n",
    "        train_only_unet_arg = '--train_only_unet'\n",
    "        \n",
    "    resume_from_checkpoint_arg = ''\n",
    "    if resume_from_checkpoint:\n",
    "        resume_from_checkpoint_arg = '--resume_from_checkpoint=\"latest\"'\n",
    "\n",
    "    \n",
    "    !accelerate launch train_dreambooth_inpaint_V2.py \\\n",
    "        {image_captions_filename_arg} \\\n",
    "        {gradient_checkpointing_arg} \\\n",
    "        {train_only_unet_arg} \\\n",
    "        {resume_from_checkpoint_arg} \\\n",
    "        --pretrained_model_name_or_path=\"{pretrained_model_name_or_path}\" \\\n",
    "        --instance_data_dir=\"{instance_data_dir}\" \\\n",
    "        --instance_prompt=\"{instance_prompt}\" \\\n",
    "        --output_dir=\"{output_dir}\" \\\n",
    "        --home_dir=\"{HOME_DIR}\" \\\n",
    "        --seed={seed} \\\n",
    "        --resolution={resolution} \\\n",
    "        --stop_text_encoder_training={stop_text_encoder_training} \\\n",
    "        --save_starting_step={save_starting_step} \\\n",
    "        --save_n_steps={save_n_steps} \\\n",
    "        --Session_dir=\"{session_dir}\" \\\n",
    "        --captions_dir=\"{captions_dir}\" \\\n",
    "        --mixed_precision=\"{mixed_precision}\" \\\n",
    "        --train_batch_size={train_batch_size} \\\n",
    "        --gradient_accumulation_steps={gradient_accumulation_steps} \\\n",
    "        --learning_rate={learning_rate} \\\n",
    "        --lr_scheduler=\"{lr_scheduler}\" \\\n",
    "        --lr_warmup_steps={lr_warmup_steps} \\\n",
    "        --max_train_steps={max_train_steps}\n",
    "    \n",
    "    return True\n",
    "    \n",
    "\n",
    "def save(file_name):\n",
    "    \n",
    "    ckpt_path = SESSION_DIR + \"/\"  + Session_Name + '-' + file_name + \"-fp16-inpainting.ckpt\"\n",
    "\n",
    "    fp16 = True\n",
    "    half_arg = ''\n",
    "    if fp16:\n",
    "        half_arg = \"--half\"\n",
    "    \n",
    "    #text = f'''\n",
    "    !python convert_diffusers_to_original_stable_diffusion.py --model_path $OUTPUT_DIR  --checkpoint_path $ckpt_path $half_arg\n",
    "    #'''\n",
    "    #print(text)\n",
    "    \n",
    "    print(f\"[*] Converted ckpt saved at {ckpt_path}\")"
   ]
  },
  {
   "cell_type": "code",
   "execution_count": 12,
   "id": "0e26e318",
   "metadata": {},
   "outputs": [],
   "source": [
    "#!wget https://raw.githubusercontent.com/V4-69/dreambooth_inpainting_c/main/train_dreambooth_inpaint_V2.py\n",
    "\n",
    "#!cp -R -T '/home/ubuntu/dreambooth/data/side_view_1/instance_images' $INSTANCE_DIR\n",
    "#!cp -R -T '/home/ubuntu/dreambooth/data/side_view_1/captions' $CAPTIONS_DIR"
   ]
  },
  {
   "cell_type": "code",
   "execution_count": null,
   "id": "d44b64e7",
   "metadata": {
    "scrolled": false
   },
   "outputs": [
    {
     "name": "stdout",
     "output_type": "stream",
     "text": [
      "/home/ubuntu/dreambooth/dreambooth_inpaining\n",
      "The following values were not passed to `accelerate launch` and had defaults used instead:\n",
      "\t`--num_processes` was set to a value of `1`\n",
      "\t`--num_machines` was set to a value of `1`\n",
      "\t`--mixed_precision` was set to a value of `'no'`\n",
      "\t`--dynamo_backend` was set to a value of `'no'`\n",
      "To avoid this warning pass in values for each of the problematic parameters or run `accelerate config`.\n",
      "/home/ubuntu/anaconda/lib/python3.9/site-packages/diffusers/utils/deprecation_utils.py:35: FutureWarning: It is deprecated to pass a pretrained model name or path to `from_config`.If you were trying to load a scheduler, please use <class 'diffusers.schedulers.scheduling_ddpm.DDPMScheduler'>.from_pretrained(...) instead. Otherwise, please make sure to pass a configuration dictionary instead. This functionality will be removed in v1.0.0.\n",
      "  warnings.warn(warning + message, FutureWarning)\n",
      "Progress:|                         |:   2%| | 65/3000 [00:48<29:57,  1.63it/s, l \u001b[0;32msideview  \u001b[0m \u001b[0;32msideview  \u001b[0m \u001b[0;32msideview  \u001b[0m \u001b[0;32msideview  \u001b[0m \u001b[0;32msideview  \u001b[0m"
     ]
    }
   ],
   "source": [
    "%cd {HOME_DIR}\n",
    "res = train(pretrained_model_name_or_path, stop_text_encoder_training, max_train_steps, resume_from_checkpoint)\n",
    "file_name = str(max_train_steps)\n",
    "save(file_name)"
   ]
  },
  {
   "cell_type": "code",
   "execution_count": null,
   "id": "3d78bc4b",
   "metadata": {},
   "outputs": [],
   "source": []
  },
  {
   "cell_type": "code",
   "execution_count": null,
   "id": "61f85e51",
   "metadata": {},
   "outputs": [],
   "source": []
  },
  {
   "cell_type": "code",
   "execution_count": null,
   "id": "db69ac42",
   "metadata": {},
   "outputs": [],
   "source": []
  },
  {
   "cell_type": "code",
   "execution_count": null,
   "id": "4e6e9026",
   "metadata": {},
   "outputs": [],
   "source": []
  },
  {
   "cell_type": "code",
   "execution_count": null,
   "id": "6eb456a4",
   "metadata": {},
   "outputs": [],
   "source": []
  },
  {
   "cell_type": "code",
   "execution_count": null,
   "id": "91048b51",
   "metadata": {},
   "outputs": [],
   "source": []
  },
  {
   "cell_type": "code",
   "execution_count": null,
   "id": "8ce7f560",
   "metadata": {},
   "outputs": [],
   "source": []
  },
  {
   "cell_type": "code",
   "execution_count": null,
   "id": "e00b33ac",
   "metadata": {},
   "outputs": [],
   "source": [
    "# %cd {OUTPUT_DIR}\n",
    "# !rm -rf ./*"
   ]
  },
  {
   "cell_type": "code",
   "execution_count": null,
   "id": "d8a07664",
   "metadata": {},
   "outputs": [],
   "source": [
    "%cd {HOME_DIR}"
   ]
  },
  {
   "cell_type": "code",
   "execution_count": null,
   "id": "9e69aacd",
   "metadata": {},
   "outputs": [],
   "source": []
  },
  {
   "cell_type": "code",
   "execution_count": null,
   "id": "56a8c3dd",
   "metadata": {},
   "outputs": [],
   "source": [
    "sideviewinp7"
   ]
  },
  {
   "cell_type": "code",
   "execution_count": null,
   "id": "cf2fec78",
   "metadata": {},
   "outputs": [],
   "source": [
    "%cd '/home/ubuntu/dreambooth/models/sideviewinp8'"
   ]
  },
  {
   "cell_type": "code",
   "execution_count": 6,
   "id": "5fe6b63b",
   "metadata": {},
   "outputs": [],
   "source": [
    "#!rm -rf ./*"
   ]
  },
  {
   "cell_type": "code",
   "execution_count": 7,
   "id": "bc1f389a",
   "metadata": {},
   "outputs": [],
   "source": [
    "ls"
   ]
  },
  {
   "cell_type": "code",
   "execution_count": 8,
   "id": "5ec66467",
   "metadata": {},
   "outputs": [
    {
     "name": "stdout",
     "output_type": "stream",
     "text": [
      "/home/ubuntu/.local/share/Trash/files\n"
     ]
    }
   ],
   "source": [
    "#%cd '/home/ubuntu/.local/share/Trash/files'"
   ]
  },
  {
   "cell_type": "code",
   "execution_count": 9,
   "id": "35139bd3",
   "metadata": {},
   "outputs": [],
   "source": [
    "ls"
   ]
  },
  {
   "cell_type": "code",
   "execution_count": null,
   "id": "a5f966de",
   "metadata": {},
   "outputs": [],
   "source": []
  },
  {
   "cell_type": "code",
   "execution_count": null,
   "id": "88280cdd",
   "metadata": {},
   "outputs": [],
   "source": [
    "args.Session_dir[-args.Session_dir[::-1].find('/'):] + '_step_20' + '_fp16_' "
   ]
  },
  {
   "cell_type": "code",
   "execution_count": null,
   "id": "c5bc3ffa",
   "metadata": {},
   "outputs": [],
   "source": [
    "session_dir[-session_dir[::-1].find('/'):] + '_step_20' + '_fp16_' "
   ]
  },
  {
   "cell_type": "code",
   "execution_count": null,
   "id": "656e05ae",
   "metadata": {},
   "outputs": [],
   "source": [
    "save_dir = '/home/ubuntu/dreambooth/models/side_view_inpaint/_step_20'\n",
    "chkpth = '/home/ubuntu/dreambooth/workspace/side_view_inpaint/_step_20.ckpt'\n",
    "home_dir = HOME_DIR"
   ]
  },
  {
   "cell_type": "code",
   "execution_count": null,
   "id": "87393515",
   "metadata": {},
   "outputs": [],
   "source": [
    "subprocess.call(f'python {home_dir}/convert_diffusers_to_original_stable_diffusion.py --model_path {save_dir} --checkpoint_path {chkpth} --half', shell=True)"
   ]
  },
  {
   "cell_type": "code",
   "execution_count": null,
   "id": "f4730793",
   "metadata": {},
   "outputs": [],
   "source": [
    "chkpth"
   ]
  },
  {
   "cell_type": "code",
   "execution_count": null,
   "id": "0b34fa09",
   "metadata": {},
   "outputs": [],
   "source": [
    "output_dir"
   ]
  },
  {
   "cell_type": "code",
   "execution_count": null,
   "id": "d858bec8",
   "metadata": {},
   "outputs": [],
   "source": [
    "save_dir"
   ]
  },
  {
   "cell_type": "code",
   "execution_count": null,
   "id": "954b3d2f",
   "metadata": {},
   "outputs": [],
   "source": [
    "session_dir"
   ]
  },
  {
   "cell_type": "code",
   "execution_count": null,
   "id": "723d34a1",
   "metadata": {},
   "outputs": [],
   "source": [
    "output_dir"
   ]
  },
  {
   "cell_type": "code",
   "execution_count": null,
   "id": "24acca95",
   "metadata": {},
   "outputs": [],
   "source": [
    "HOME_DIR"
   ]
  },
  {
   "cell_type": "code",
   "execution_count": null,
   "id": "1f2f351e",
   "metadata": {},
   "outputs": [],
   "source": []
  },
  {
   "cell_type": "code",
   "execution_count": null,
   "id": "4a958516",
   "metadata": {},
   "outputs": [],
   "source": []
  },
  {
   "cell_type": "code",
   "execution_count": null,
   "id": "a862fbd5",
   "metadata": {},
   "outputs": [],
   "source": [
    "image_captions_filename_arg = ''\n",
    "if image_captions_filename:\n",
    "    image_captions_filename_arg = '--image_captions_filename'\n",
    "\n",
    "gradient_checkpointing_arg = ''\n",
    "if gradient_checkpointing:\n",
    "    gradient_checkpointing_arg = '--gradient_checkpointing'\n",
    "\n",
    "train_only_unet_arg = ''\n",
    "if train_only_unet:\n",
    "    train_only_unet_arg = '--train_only_unet'\n",
    "\n",
    "command = f'''\n",
    "accelerate launch train_dreambooth_inpaint_V2.py \\\n",
    "    {image_captions_filename_arg} \\\n",
    "    {gradient_checkpointing_arg} \\\n",
    "    {train_only_unet_arg} \\\n",
    "    --pretrained_model_name_or_path=\"{pretrained_model_name_or_path}\" \\\n",
    "    --instance_data_dir=\"{instance_data_dir}\" \\\n",
    "    --instance_prompt=\"{instance_prompt}\" \\\n",
    "    --output_dir=\"{output_dir}\" \\\n",
    "    --seed={seed} \\\n",
    "    --resolution={resolution} \\\n",
    "    --stop_text_encoder_training={stop_text_encoder_training} \\\n",
    "    --save_starting_step={save_starting_step} \\\n",
    "    --save_n_steps={save_n_steps} \\\n",
    "    --session_dir=\"{session_dir}\" \\\n",
    "    --captions_dir=\"{captions_dir}\" \\\n",
    "    --mixed_precision=\"{mixed_precision}\" \\\n",
    "    --train_batch_size={train_batch_size} \\\n",
    "    --gradient_accumulation_steps={gradient_accumulation_steps} \\\n",
    "    --learning_rate={learning_rate} \\\n",
    "    --lr_scheduler=\"{lr_scheduler}\" \\\n",
    "    --lr_warmup_steps={lr_warmup_steps} \\\n",
    "    --max_train_steps={max_train_steps} \\\n",
    "    --resume_from_checkpoint={resume_from_checkpoint}\n",
    "'''\n",
    "print(command)"
   ]
  },
  {
   "cell_type": "code",
   "execution_count": null,
   "id": "bdcc19ad",
   "metadata": {},
   "outputs": [],
   "source": [
    "ls"
   ]
  },
  {
   "cell_type": "code",
   "execution_count": null,
   "id": "9cb45258",
   "metadata": {},
   "outputs": [],
   "source": []
  },
  {
   "cell_type": "code",
   "execution_count": null,
   "id": "0dcfeca0",
   "metadata": {},
   "outputs": [],
   "source": [
    "ls"
   ]
  },
  {
   "cell_type": "code",
   "execution_count": null,
   "id": "8d7ffc4c",
   "metadata": {},
   "outputs": [],
   "source": []
  },
  {
   "cell_type": "code",
   "execution_count": null,
   "id": "5104b237",
   "metadata": {},
   "outputs": [],
   "source": [
    "ls"
   ]
  },
  {
   "cell_type": "code",
   "execution_count": null,
   "id": "afa81cc8",
   "metadata": {},
   "outputs": [],
   "source": [
    "%cd '/home/ubuntu/dreambooth/models/side_view_inpaint_step_20'"
   ]
  },
  {
   "cell_type": "code",
   "execution_count": null,
   "id": "82cff4d7",
   "metadata": {},
   "outputs": [],
   "source": []
  }
 ],
 "metadata": {
  "kernelspec": {
   "display_name": "Python 3 (ipykernel)",
   "language": "python",
   "name": "python3"
  },
  "language_info": {
   "codemirror_mode": {
    "name": "ipython",
    "version": 3
   },
   "file_extension": ".py",
   "mimetype": "text/x-python",
   "name": "python",
   "nbconvert_exporter": "python",
   "pygments_lexer": "ipython3",
   "version": "3.9.7"
  }
 },
 "nbformat": 4,
 "nbformat_minor": 5
}
