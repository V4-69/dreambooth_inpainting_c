{
 "cells": [
  {
   "cell_type": "code",
   "execution_count": 1,
   "id": "02b716c2",
   "metadata": {},
   "outputs": [
    {
     "data": {
      "text/html": [
       "<style>.container { width:95% !important; }</style>"
      ],
      "text/plain": [
       "<IPython.core.display.HTML object>"
      ]
     },
     "metadata": {},
     "output_type": "display_data"
    }
   ],
   "source": [
    "from IPython.core.display import display, HTML\n",
    "display(HTML(\"<style>.container { width:95% !important; }</style>\"))"
   ]
  },
  {
   "cell_type": "code",
   "execution_count": 2,
   "id": "d5c9f153",
   "metadata": {},
   "outputs": [],
   "source": [
    "import os"
   ]
  },
  {
   "cell_type": "code",
   "execution_count": 33,
   "id": "6345c076",
   "metadata": {},
   "outputs": [
    {
     "name": "stdout",
     "output_type": "stream",
     "text": [
      "/home/ubuntu/dreambooth/models\n",
      "mkdir: cannot create directory ‘sideviewinp8’: File exists\r\n"
     ]
    }
   ],
   "source": [
    "Session_Name = 'sideviewinp8'\n",
    "\n",
    "%cd '/home/ubuntu/dreambooth/models/'\n",
    "!mkdir $Session_Name\n",
    "\n",
    "OUTPUT_DIR = '/home/ubuntu/dreambooth/models/' + Session_Name"
   ]
  },
  {
   "cell_type": "code",
   "execution_count": 34,
   "id": "0ba07f81",
   "metadata": {},
   "outputs": [
    {
     "name": "stdout",
     "output_type": "stream",
     "text": [
      "/home/ubuntu/dreambooth/workspace\n",
      "mkdir: cannot create directory ‘sideviewinp8’: File exists\r\n"
     ]
    }
   ],
   "source": [
    "%cd '/home/ubuntu/dreambooth/workspace'\n",
    "!mkdir $Session_Name"
   ]
  },
  {
   "cell_type": "code",
   "execution_count": 35,
   "id": "56fa015d",
   "metadata": {},
   "outputs": [
    {
     "name": "stdout",
     "output_type": "stream",
     "text": [
      "/home/ubuntu/dreambooth/workspace/sideviewinp8\n",
      "mkdir: cannot create directory ‘instance_images’: File exists\r\n"
     ]
    }
   ],
   "source": [
    "SESSION_DIR = '/home/ubuntu/dreambooth/workspace/' + Session_Name\n",
    "\n",
    "%cd $SESSION_DIR\n",
    "!mkdir instance_images\n",
    "\n",
    "INSTANCE_DIR = SESSION_DIR +'/instance_images'\n",
    "#CONCEPT_DIR = SESSION_DIR + '/concept_images'\n",
    "#CAPTIONS_DIR = SESSION_DIR + '/captions'\n",
    "MDLPTH = str(SESSION_DIR + \"/\" + Session_Name + '.ckpt')"
   ]
  },
  {
   "cell_type": "code",
   "execution_count": 30,
   "id": "ab84a7ab",
   "metadata": {},
   "outputs": [
    {
     "data": {
      "text/plain": [
       "'/home/ubuntu/dreambooth/workspace/sideviewinp8/instance_images'"
      ]
     },
     "execution_count": 30,
     "metadata": {},
     "output_type": "execute_result"
    }
   ],
   "source": [
    "INSTANCE_DIR"
   ]
  },
  {
   "cell_type": "code",
   "execution_count": 38,
   "id": "4182b98a",
   "metadata": {},
   "outputs": [
    {
     "name": "stdout",
     "output_type": "stream",
     "text": [
      "/home/ubuntu/dreambooth/dreambooth_inpaining\n"
     ]
    }
   ],
   "source": [
    "%cd '/home/ubuntu/dreambooth/dreambooth_inpaining/'"
   ]
  },
  {
   "cell_type": "code",
   "execution_count": 39,
   "id": "65058203",
   "metadata": {},
   "outputs": [
    {
     "name": "stdout",
     "output_type": "stream",
     "text": [
      "convert_diffusers_to_original_stable_diffusion.py\r\n",
      "requirements.txt\r\n",
      "train_dreambooth_inpaint.py\r\n",
      "train_dreambooth_inpaint_V2.py\r\n"
     ]
    }
   ],
   "source": [
    "ls"
   ]
  },
  {
   "cell_type": "code",
   "execution_count": 40,
   "id": "35c66626",
   "metadata": {},
   "outputs": [
    {
     "name": "stdout",
     "output_type": "stream",
     "text": [
      "The following values were not passed to `accelerate launch` and had defaults used instead:\n",
      "\t`--num_processes` was set to a value of `1`\n",
      "\t`--num_machines` was set to a value of `1`\n",
      "\t`--mixed_precision` was set to a value of `'no'`\n",
      "\t`--dynamo_backend` was set to a value of `'no'`\n",
      "To avoid this warning pass in values for each of the problematic parameters or run `accelerate config`.\n",
      "Steps: 100%|██████████| 500/500 [07:45<00:00,  1.13it/s, loss=0.0143, lr=0.0001]\n",
      "Fetching 16 files: 100%|██████████████████████| 16/16 [00:00<00:00, 1020.20it/s]\u001b[A\n",
      "Steps: 100%|██████████| 500/500 [08:03<00:00,  1.03it/s, loss=0.0143, lr=0.0001]\n"
     ]
    }
   ],
   "source": [
    "!accelerate launch train_dreambooth_inpaint.py \\\n",
    "--pretrained_model_name_or_path=\"runwayml/stable-diffusion-inpainting\" \\\n",
    "--instance_data_dir=$INSTANCE_DIR \\\n",
    "--output_dir=$OUTPUT_DIR \\\n",
    "--instance_prompt=\"\" \\\n",
    "--resolution=512 \\\n",
    "--train_batch_size=1 \\\n",
    "--learning_rate=1e-4 \\\n",
    "--lr_scheduler=\"constant\" \\\n",
    "--lr_warmup_steps=0 \\\n",
    "--max_train_steps=500 \\\n",
    "--gradient_accumulation_steps=1 \\\n",
    "--gradient_checkpointing \\\n",
    "--train_text_encoder"
   ]
  },
  {
   "cell_type": "code",
   "execution_count": 41,
   "id": "1beecfdd",
   "metadata": {},
   "outputs": [
    {
     "name": "stdout",
     "output_type": "stream",
     "text": [
      "Reshaping encoder.mid.attn_1.q.weight for SD format\n",
      "Reshaping encoder.mid.attn_1.k.weight for SD format\n",
      "Reshaping encoder.mid.attn_1.v.weight for SD format\n",
      "Reshaping encoder.mid.attn_1.proj_out.weight for SD format\n",
      "Reshaping decoder.mid.attn_1.q.weight for SD format\n",
      "Reshaping decoder.mid.attn_1.k.weight for SD format\n",
      "Reshaping decoder.mid.attn_1.v.weight for SD format\n",
      "Reshaping decoder.mid.attn_1.proj_out.weight for SD format\n",
      "[*] Converted ckpt saved at /home/ubuntu/dreambooth/workspace/sideviewinp8/sideviewinp8-500-16-emp-promt-inpainting.ckpt\n"
     ]
    }
   ],
   "source": [
    "ckpt_path = SESSION_DIR + \"/\"  + Session_Name + \"-500-16-emp-promt-inpainting.ckpt\"\n",
    "\n",
    "fp16 = True\n",
    "half_arg = ''\n",
    "if fp16:\n",
    "    half_arg = \"--half\"\n",
    "\n",
    "!python convert_diffusers_to_original_stable_diffusion.py --model_path $OUTPUT_DIR  --checkpoint_path $ckpt_path $half_arg\n",
    "print(f\"[*] Converted ckpt saved at {ckpt_path}\")"
   ]
  },
  {
   "cell_type": "code",
   "execution_count": null,
   "id": "45394bf7",
   "metadata": {},
   "outputs": [],
   "source": []
  },
  {
   "cell_type": "code",
   "execution_count": 19,
   "id": "0345c36f",
   "metadata": {},
   "outputs": [],
   "source": [
    "ckp_r = OUTPUT_DIR + '/checkpoint-2000'"
   ]
  },
  {
   "cell_type": "code",
   "execution_count": 21,
   "id": "31ead2f6",
   "metadata": {},
   "outputs": [
    {
     "data": {
      "text/plain": [
       "'/home/ubuntu/dreambooth/models/sideviewinp7'"
      ]
     },
     "execution_count": 21,
     "metadata": {},
     "output_type": "execute_result"
    }
   ],
   "source": [
    "OUTPUT_DIR"
   ]
  },
  {
   "cell_type": "code",
   "execution_count": 25,
   "id": "840d9c15",
   "metadata": {},
   "outputs": [
    {
     "name": "stdout",
     "output_type": "stream",
     "text": [
      "The following values were not passed to `accelerate launch` and had defaults used instead:\n",
      "\t`--num_processes` was set to a value of `1`\n",
      "\t`--num_machines` was set to a value of `1`\n",
      "\t`--mixed_precision` was set to a value of `'no'`\n",
      "\t`--dynamo_backend` was set to a value of `'no'`\n",
      "To avoid this warning pass in values for each of the problematic parameters or run `accelerate config`.\n",
      "Resuming from checkpoint checkpoint-2000\n",
      "Steps: : 512it [08:12,  1.04it/s, loss=0.000558, lr=5e-6]                       \n"
     ]
    }
   ],
   "source": [
    "!accelerate launch train_dreambooth_inpaint.py \\\n",
    "--pretrained_model_name_or_path=\"$OUTPUT_DIR\" \\\n",
    "--instance_data_dir=$INSTANCE_DIR \\\n",
    "--output_dir=$OUTPUT_DIR \\\n",
    "--instance_prompt=\"art by sideviewinp7\" \\\n",
    "--resolution=512 \\\n",
    "--train_batch_size=1 \\\n",
    "--learning_rate=5e-6 \\\n",
    "--lr_scheduler=\"constant\" \\\n",
    "--lr_warmup_steps=0 \\\n",
    "--max_train_steps=2500 \\\n",
    "--gradient_accumulation_steps=1 \\\n",
    "--gradient_checkpointing \\\n",
    "--train_text_encoder \\\n",
    "--resume_from_checkpoint=\"latest\""
   ]
  },
  {
   "cell_type": "code",
   "execution_count": 26,
   "id": "e6c50354",
   "metadata": {},
   "outputs": [
    {
     "name": "stdout",
     "output_type": "stream",
     "text": [
      "Reshaping encoder.mid.attn_1.q.weight for SD format\n",
      "Reshaping encoder.mid.attn_1.k.weight for SD format\n",
      "Reshaping encoder.mid.attn_1.v.weight for SD format\n",
      "Reshaping encoder.mid.attn_1.proj_out.weight for SD format\n",
      "Reshaping decoder.mid.attn_1.q.weight for SD format\n",
      "Reshaping decoder.mid.attn_1.k.weight for SD format\n",
      "Reshaping decoder.mid.attn_1.v.weight for SD format\n",
      "Reshaping decoder.mid.attn_1.proj_out.weight for SD format\n",
      "[*] Converted ckpt saved at /home/ubuntu/dreambooth/workspace/sideviewinp7/sideviewinp7-2500-16-promt-inpainting.ckpt\n"
     ]
    }
   ],
   "source": [
    "ckpt_path = SESSION_DIR + \"/\"  + Session_Name + \"-2500-16-promt-inpainting.ckpt\"\n",
    "\n",
    "fp16 = True\n",
    "half_arg = ''\n",
    "if fp16:\n",
    "    half_arg = \"--half\"\n",
    "\n",
    "!python convert_diffusers_to_original_stable_diffusion.py --model_path $OUTPUT_DIR  --checkpoint_path $ckpt_path $half_arg\n",
    "print(f\"[*] Converted ckpt saved at {ckpt_path}\")"
   ]
  },
  {
   "cell_type": "code",
   "execution_count": null,
   "id": "9335700c",
   "metadata": {},
   "outputs": [],
   "source": []
  },
  {
   "cell_type": "code",
   "execution_count": null,
   "id": "e45eaad6",
   "metadata": {},
   "outputs": [],
   "source": []
  },
  {
   "cell_type": "code",
   "execution_count": null,
   "id": "62e85c84",
   "metadata": {},
   "outputs": [],
   "source": []
  },
  {
   "cell_type": "code",
   "execution_count": null,
   "id": "b1999b4b",
   "metadata": {},
   "outputs": [],
   "source": []
  },
  {
   "cell_type": "code",
   "execution_count": null,
   "id": "d3330aaf",
   "metadata": {},
   "outputs": [],
   "source": []
  },
  {
   "cell_type": "code",
   "execution_count": null,
   "id": "671c32a9",
   "metadata": {},
   "outputs": [],
   "source": []
  },
  {
   "cell_type": "code",
   "execution_count": null,
   "id": "9660492b",
   "metadata": {},
   "outputs": [],
   "source": [
    "ls"
   ]
  },
  {
   "cell_type": "code",
   "execution_count": null,
   "id": "b996ad81",
   "metadata": {},
   "outputs": [],
   "source": [
    "!df -h"
   ]
  },
  {
   "cell_type": "code",
   "execution_count": null,
   "id": "d7a82250",
   "metadata": {},
   "outputs": [],
   "source": [
    "OUTPUT_DIR"
   ]
  },
  {
   "cell_type": "code",
   "execution_count": null,
   "id": "038af1a4",
   "metadata": {},
   "outputs": [],
   "source": [
    "checkpoint_2000"
   ]
  },
  {
   "cell_type": "code",
   "execution_count": null,
   "id": "91e73940",
   "metadata": {},
   "outputs": [],
   "source": [
    "ckpt_path = SESSION_DIR + \"/\"  + Session_Name + \"-2000-16-inpainting.ckpt\"\n",
    "checkpoint_2000 = OUTPUT_DIR + \"/checkpoint-2000\"\n",
    "\n",
    "fp16 = True\n",
    "half_arg = ''\n",
    "if fp16:\n",
    "    half_arg = \"--half\"\n",
    "\n",
    "!python convert_diffusers_to_original_stable_diffusion.py --model_path $OUTPUT_DIR  --checkpoint_path $ckpt_path $half_arg\n",
    "print(f\"[*] Converted ckpt saved at {ckpt_path}\")"
   ]
  },
  {
   "cell_type": "code",
   "execution_count": null,
   "id": "d0421a87",
   "metadata": {},
   "outputs": [],
   "source": [
    "checkpoint_2000"
   ]
  },
  {
   "cell_type": "code",
   "execution_count": null,
   "id": "f8d2d49b",
   "metadata": {},
   "outputs": [],
   "source": [
    "checkpoint_2000"
   ]
  },
  {
   "cell_type": "code",
   "execution_count": null,
   "id": "0b73b4be",
   "metadata": {},
   "outputs": [],
   "source": []
  }
 ],
 "metadata": {
  "kernelspec": {
   "display_name": "Python 3 (ipykernel)",
   "language": "python",
   "name": "python3"
  },
  "language_info": {
   "codemirror_mode": {
    "name": "ipython",
    "version": 3
   },
   "file_extension": ".py",
   "mimetype": "text/x-python",
   "name": "python",
   "nbconvert_exporter": "python",
   "pygments_lexer": "ipython3",
   "version": "3.9.7"
  }
 },
 "nbformat": 4,
 "nbformat_minor": 5
}
