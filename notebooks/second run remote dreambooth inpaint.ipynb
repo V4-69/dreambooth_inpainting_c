{
 "cells": [
  {
   "cell_type": "code",
   "execution_count": 1,
   "id": "02b716c2",
   "metadata": {},
   "outputs": [
    {
     "data": {
      "text/html": [
       "<style>.container { width:95% !important; }</style>"
      ],
      "text/plain": [
       "<IPython.core.display.HTML object>"
      ]
     },
     "metadata": {},
     "output_type": "display_data"
    }
   ],
   "source": [
    "from IPython.core.display import display, HTML\n",
    "display(HTML(\"<style>.container { width:95% !important; }</style>\"))"
   ]
  },
  {
   "cell_type": "code",
   "execution_count": 2,
   "id": "d5c9f153",
   "metadata": {},
   "outputs": [],
   "source": [
    "import os"
   ]
  },
  {
   "cell_type": "code",
   "execution_count": 3,
   "id": "6345c076",
   "metadata": {},
   "outputs": [
    {
     "name": "stdout",
     "output_type": "stream",
     "text": [
      "/home/ubuntu/dreambooth/models\n"
     ]
    }
   ],
   "source": [
    "Session_Name = 'sideviewinp1'\n",
    "\n",
    "%cd '/home/ubuntu/dreambooth/models/'\n",
    "!mkdir $Session_Name\n",
    "\n",
    "OUTPUT_DIR = '/home/ubuntu/dreambooth/models/' + Session_Name"
   ]
  },
  {
   "cell_type": "code",
   "execution_count": 4,
   "id": "0ba07f81",
   "metadata": {},
   "outputs": [
    {
     "name": "stdout",
     "output_type": "stream",
     "text": [
      "/home/ubuntu/dreambooth/workspace\n"
     ]
    }
   ],
   "source": [
    "%cd '/home/ubuntu/dreambooth/workspace'\n",
    "!mkdir $Session_Name"
   ]
  },
  {
   "cell_type": "code",
   "execution_count": 5,
   "id": "56fa015d",
   "metadata": {},
   "outputs": [
    {
     "name": "stdout",
     "output_type": "stream",
     "text": [
      "/home/ubuntu/dreambooth/workspace/sideviewinp1\n"
     ]
    }
   ],
   "source": [
    "SESSION_DIR = '/home/ubuntu/dreambooth/workspace/' + Session_Name\n",
    "\n",
    "%cd $SESSION_DIR\n",
    "!mkdir instance_images\n",
    "\n",
    "INSTANCE_DIR = SESSION_DIR +'/instance_images'\n",
    "#CONCEPT_DIR = SESSION_DIR + '/concept_images'\n",
    "#CAPTIONS_DIR = SESSION_DIR + '/captions'\n",
    "MDLPTH = str(SESSION_DIR + \"/\" + Session_Name + '.ckpt')"
   ]
  },
  {
   "cell_type": "code",
   "execution_count": 6,
   "id": "ab84a7ab",
   "metadata": {},
   "outputs": [
    {
     "data": {
      "text/plain": [
       "'/home/ubuntu/dreambooth/workspace/sideviewinp1/instance_images'"
      ]
     },
     "execution_count": 6,
     "metadata": {},
     "output_type": "execute_result"
    }
   ],
   "source": [
    "INSTANCE_DIR"
   ]
  },
  {
   "cell_type": "code",
   "execution_count": 7,
   "id": "4182b98a",
   "metadata": {},
   "outputs": [
    {
     "name": "stdout",
     "output_type": "stream",
     "text": [
      "/home/ubuntu/dreambooth/dreambooth_inpaining\n"
     ]
    }
   ],
   "source": [
    "%cd '/home/ubuntu/dreambooth/dreambooth_inpaining/'"
   ]
  },
  {
   "cell_type": "code",
   "execution_count": 8,
   "id": "65058203",
   "metadata": {},
   "outputs": [
    {
     "name": "stdout",
     "output_type": "stream",
     "text": [
      "convert_diffusers_to_original_stable_diffusion.py  train_dreambooth_inpaint.py\r\n",
      "requirements.txt\r\n"
     ]
    }
   ],
   "source": [
    "ls"
   ]
  },
  {
   "cell_type": "code",
   "execution_count": 9,
   "id": "35c66626",
   "metadata": {},
   "outputs": [
    {
     "name": "stdout",
     "output_type": "stream",
     "text": [
      "The following values were not passed to `accelerate launch` and had defaults used instead:\n",
      "\t`--num_processes` was set to a value of `1`\n",
      "\t`--num_machines` was set to a value of `1`\n",
      "\t`--mixed_precision` was set to a value of `'no'`\n",
      "\t`--dynamo_backend` was set to a value of `'no'`\n",
      "To avoid this warning pass in values for each of the problematic parameters or run `accelerate config`.\n",
      "Steps: 100%|██████████| 1000/1000 [15:43<00:00,  1.13it/s, loss=0.0873, lr=5e-6]\n",
      "Fetching 16 files: 100%|███████████████████████| 16/16 [00:00<00:00, 844.75it/s]\u001b[A\n",
      "Steps: 100%|██████████| 1000/1000 [16:03<00:00,  1.04it/s, loss=0.0873, lr=5e-6]\n"
     ]
    }
   ],
   "source": [
    "!accelerate launch train_dreambooth_inpaint.py \\\n",
    "--pretrained_model_name_or_path=\"runwayml/stable-diffusion-inpainting\" \\\n",
    "--instance_data_dir=$INSTANCE_DIR \\\n",
    "--output_dir=$OUTPUT_DIR \\\n",
    "--instance_prompt=\"art by sideviewinp1\" \\\n",
    "--resolution=512 \\\n",
    "--train_batch_size=1 \\\n",
    "--learning_rate=5e-6 \\\n",
    "--lr_scheduler=\"constant\" \\\n",
    "--lr_warmup_steps=0 \\\n",
    "--max_train_steps=1000 \\\n",
    "--gradient_accumulation_steps=1 \\\n",
    "--gradient_checkpointing \\\n",
    "--train_text_encoder"
   ]
  },
  {
   "cell_type": "code",
   "execution_count": 13,
   "id": "1beecfdd",
   "metadata": {},
   "outputs": [
    {
     "name": "stdout",
     "output_type": "stream",
     "text": [
      "Reshaping encoder.mid.attn_1.q.weight for SD format\n",
      "Reshaping encoder.mid.attn_1.k.weight for SD format\n",
      "Reshaping encoder.mid.attn_1.v.weight for SD format\n",
      "Reshaping encoder.mid.attn_1.proj_out.weight for SD format\n",
      "Reshaping decoder.mid.attn_1.q.weight for SD format\n",
      "Reshaping decoder.mid.attn_1.k.weight for SD format\n",
      "Reshaping decoder.mid.attn_1.v.weight for SD format\n",
      "Reshaping decoder.mid.attn_1.proj_out.weight for SD format\n",
      "[*] Converted ckpt saved at /home/ubuntu/dreambooth/workspace/sideviewinp1/sideviewinp1-1000-32-inpainting.ckpt\n"
     ]
    }
   ],
   "source": [
    "ckpt_path = SESSION_DIR + \"/\"  + Session_Name + \"-1000-32-inpainting.ckpt\"\n",
    "\n",
    "fp16 = False\n",
    "half_arg = ''\n",
    "if fp16:\n",
    "    half_arg = \"--half\"\n",
    "\n",
    "!python convert_diffusers_to_original_stable_diffusion.py --model_path $OUTPUT_DIR  --checkpoint_path $ckpt_path $half_arg\n",
    "print(f\"[*] Converted ckpt saved at {ckpt_path}\")"
   ]
  },
  {
   "cell_type": "code",
   "execution_count": null,
   "id": "9660492b",
   "metadata": {},
   "outputs": [],
   "source": []
  }
 ],
 "metadata": {
  "kernelspec": {
   "display_name": "Python 3 (ipykernel)",
   "language": "python",
   "name": "python3"
  },
  "language_info": {
   "codemirror_mode": {
    "name": "ipython",
    "version": 3
   },
   "file_extension": ".py",
   "mimetype": "text/x-python",
   "name": "python",
   "nbconvert_exporter": "python",
   "pygments_lexer": "ipython3",
   "version": "3.9.7"
  }
 },
 "nbformat": 4,
 "nbformat_minor": 5
}
