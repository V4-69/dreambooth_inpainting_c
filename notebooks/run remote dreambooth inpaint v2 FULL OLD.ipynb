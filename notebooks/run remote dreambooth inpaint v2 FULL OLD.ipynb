{
 "cells": [
  {
   "cell_type": "code",
   "execution_count": 1,
   "id": "62ee4ce3",
   "metadata": {},
   "outputs": [
    {
     "data": {
      "text/html": [
       "<style>.container { width:95% !important; }</style>"
      ],
      "text/plain": [
       "<IPython.core.display.HTML object>"
      ]
     },
     "metadata": {},
     "output_type": "display_data"
    }
   ],
   "source": [
    "from IPython.core.display import display, HTML\n",
    "display(HTML(\"<style>.container { width:95% !important; }</style>\"))"
   ]
  },
  {
   "cell_type": "code",
   "execution_count": 37,
   "id": "e860a094",
   "metadata": {},
   "outputs": [],
   "source": [
    "import os\n",
    "import random\n",
    "import numpy as np\n",
    "import subprocess"
   ]
  },
  {
   "cell_type": "code",
   "execution_count": 215,
   "id": "c0b7911a",
   "metadata": {},
   "outputs": [
    {
     "name": "stdout",
     "output_type": "stream",
     "text": [
      "/home/ubuntu/dreambooth/models\n",
      "mkdir: cannot create directory ‘side_view_inpaint’: File exists\n",
      "/home/ubuntu/dreambooth/workspace\n",
      "mkdir: cannot create directory ‘side_view_inpaint’: File exists\n",
      "/home/ubuntu/dreambooth/workspace/side_view_inpaint\n",
      "mkdir: cannot create directory ‘instance_images’: File exists\n",
      "mkdir: cannot create directory ‘captions’: File exists\n",
      "/home/ubuntu/dreambooth/dreambooth_inpaining\n"
     ]
    }
   ],
   "source": [
    "Session_Name = 'side_view_inpaint'\n",
    "\n",
    "%cd '/home/ubuntu/dreambooth/models/'\n",
    "!mkdir $Session_Name\n",
    "\n",
    "OUTPUT_DIR = '/home/ubuntu/dreambooth/models/' + Session_Name + '/'\n",
    "\n",
    "%cd '/home/ubuntu/dreambooth/workspace'\n",
    "!mkdir $Session_Name\n",
    "\n",
    "SESSION_DIR = '/home/ubuntu/dreambooth/workspace/' + Session_Name\n",
    "\n",
    "%cd $SESSION_DIR\n",
    "!mkdir instance_images\n",
    "!mkdir captions\n",
    "\n",
    "INSTANCE_DIR = SESSION_DIR +'/instance_images'\n",
    "HOME_DIR = '/home/ubuntu/dreambooth/dreambooth_inpaining/'\n",
    "CAPTIONS_DIR = SESSION_DIR + \"/captions\"\n",
    "\n",
    "%cd {HOME_DIR}"
   ]
  },
  {
   "cell_type": "code",
   "execution_count": 326,
   "id": "21c5def1",
   "metadata": {},
   "outputs": [],
   "source": [
    "seed = None # seed value for reproducible training\n",
    "if seed is None or seed == 0:\n",
    "    seed = random.randint(1, 999999)\n",
    "else:\n",
    "    seed = int(seed)\n",
    "\n",
    "# pretrained model name or path to be used for training\n",
    "pretrained_model_name_or_path = \"runwayml/stable-diffusion-inpainting\" \n",
    "\n",
    "# path to the directory containing the instance images for training\n",
    "instance_data_dir = INSTANCE_DIR \n",
    "\n",
    "# directory for saving model predictions and checkpoints\n",
    "output_dir = OUTPUT_DIR \n",
    "\n",
    "# directory for session data\n",
    "session_dir = SESSION_DIR \n",
    "\n",
    "# directory for captions\n",
    "captions_dir = CAPTIONS_DIR\n",
    "\n",
    "# number of steps to train the text encoder ----------------CHANGE----------------\n",
    "stop_text_encoder_training = 20 \n",
    "\n",
    "# maximum number of training steps ----------------CHANGE----------------\n",
    "all_train_steps = 100\n",
    "\n",
    "# save the model every n global_steps ----------------CHANGE----------------\n",
    "save_n_steps = 10 \n",
    "\n",
    "# maximum number of training steps\n",
    "max_train_steps = save_n_steps + 5\n",
    "\n",
    "# filename for image captions\n",
    "image_captions_filename = True \n",
    "\n",
    "# flag to only train the U-Net\n",
    "train_only_unet = True \n",
    "\n",
    "# starting step at which to save the model\n",
    "save_starting_step = 10 \n",
    "\n",
    "# resolution for input images\n",
    "resolution = 512 \n",
    "\n",
    "# precision level for training\n",
    "mixed_precision = \"fp16\" \n",
    "\n",
    "# batch size for training\n",
    "train_batch_size = 1 \n",
    "\n",
    "# number of gradient accumulation steps\n",
    "gradient_accumulation_steps = 1 \n",
    "\n",
    "# flag to enable gradient checkpointing\n",
    "gradient_checkpointing = True \n",
    "\n",
    "# learning rate for training\n",
    "learning_rate = 1e-05 \n",
    "\n",
    "# learning rate scheduler to use\n",
    "lr_scheduler = \"polynomial\" \n",
    "\n",
    "# number of warmup steps for the learning rate scheduler\n",
    "lr_warmup_steps = 0 \n",
    "\n",
    "# prompt identifying the instance images\n",
    "instance_prompt = \"\" \n",
    "\n",
    "# whether training should be resumed from a previous checkpoint. Use a path saved by `--checkpointing_steps`, or `\"latest\"` to automatically select the last available checkpoint.\n",
    "resume_from_checkpoint = None \n",
    "\n",
    "\n",
    "\n",
    "#tokenizer_name = None # tokenizer name or path to be used with the model\n",
    "#class_data_dir = None # path to the directory containing the class images for training, if applicable\n",
    "#class_prompt = \"\" # prompt identifying the class images, if applicable\n",
    "#with_prior_preservation = False # flag to include prior preservation loss in training\n",
    "#prior_loss_weight = 1.0 # weight of the prior preservation loss\n",
    "#num_class_images = 100 # minimum number of class images for prior preservation loss\n",
    "#center_crop = False # flag to center crop images before resizing to resolution\n",
    "\n",
    "def train(pretrained_model_name_or_path, stop_text_encoder_training, max_train_steps, resume_from_checkpoint):\n",
    "    \n",
    "    image_captions_filename_arg = ''\n",
    "    if image_captions_filename:\n",
    "        image_captions_filename_arg = '--image_captions_filename'\n",
    "    \n",
    "    gradient_checkpointing_arg = ''\n",
    "    if gradient_checkpointing:\n",
    "        gradient_checkpointing_arg = '--gradient_checkpointing'\n",
    "        \n",
    "    train_only_unet_arg = ''\n",
    "    if train_only_unet:\n",
    "        train_only_unet_arg = '--train_only_unet'\n",
    "        \n",
    "    resume_from_checkpoint_arg = ''\n",
    "    if resume_from_checkpoint:\n",
    "        resume_from_checkpoint_arg = '--resume_from_checkpoint=\"latest\"'\n",
    "\n",
    "    \n",
    "    !accelerate launch train_dreambooth_inpaint_V2.py \\\n",
    "        {image_captions_filename_arg} \\\n",
    "        {gradient_checkpointing_arg} \\\n",
    "        {train_only_unet_arg} \\\n",
    "        {resume_from_checkpoint_arg} \\\n",
    "        --pretrained_model_name_or_path=\"{pretrained_model_name_or_path}\" \\\n",
    "        --instance_data_dir=\"{instance_data_dir}\" \\\n",
    "        --instance_prompt=\"{instance_prompt}\" \\\n",
    "        --output_dir=\"{output_dir}\" \\\n",
    "        --home_dir=\"{HOME_DIR}\" \\\n",
    "        --seed={seed} \\\n",
    "        --resolution={resolution} \\\n",
    "        --stop_text_encoder_training={stop_text_encoder_training} \\\n",
    "        --save_starting_step={save_starting_step} \\\n",
    "        --save_n_steps={save_n_steps} \\\n",
    "        --Session_dir=\"{session_dir}\" \\\n",
    "        --captions_dir=\"{captions_dir}\" \\\n",
    "        --mixed_precision=\"{mixed_precision}\" \\\n",
    "        --train_batch_size={train_batch_size} \\\n",
    "        --gradient_accumulation_steps={gradient_accumulation_steps} \\\n",
    "        --learning_rate={learning_rate} \\\n",
    "        --lr_scheduler=\"{lr_scheduler}\" \\\n",
    "        --lr_warmup_steps={lr_warmup_steps} \\\n",
    "        --max_train_steps={max_train_steps}\n",
    "    \n",
    "    return True\n",
    "    \n",
    "    #    --tokenizer_name=\"{tokenizer_name}\" \\\n",
    "    #    --class_data_dir=\"{class_data_dir}\" \\\n",
    "    #    --class_prompt=\"{class_prompt}\" \\\n",
    "    #    --with_prior_preservation={with_prior_preservation} \\\n",
    "    #    --prior_loss_weight={prior_loss_weight} \\\n",
    "    #    --num_class_images={num_class_images} \\\n",
    "    #    --center_crop={center_crop} \\\n",
    "\n",
    "def save(file_name):\n",
    "    \n",
    "    ckpt_path = SESSION_DIR + \"/\"  + Session_Name + '-' + file_name + \"-16-inpainting.ckpt\"\n",
    "\n",
    "    fp16 = True\n",
    "    half_arg = ''\n",
    "    if fp16:\n",
    "        half_arg = \"--half\"\n",
    "    \n",
    "    #text = f'''\n",
    "    !python convert_diffusers_to_original_stable_diffusion.py --model_path $OUTPUT_DIR  --checkpoint_path $ckpt_path $half_arg\n",
    "    #'''\n",
    "    #print(text)\n",
    "    \n",
    "    print(f\"[*] Converted ckpt saved at {ckpt_path}\")\n",
    "\n",
    "def delete_old_checkpoint():\n",
    "    \n",
    "    %cd {OUTPUT_DIR}\n",
    "    \n",
    "    dirs = os.listdir()\n",
    "    dirs = [d for d in dirs if d.startswith(\"checkpoint\")]\n",
    "    dirs = sorted(dirs, key=lambda x: int(x.split(\"-\")[1]))\n",
    "    #path = dirs[-1]\n",
    "\n",
    "    if len(dirs) > 1:\n",
    "        for dir_now in dirs[:-1]:\n",
    "            !rm -rf {dir_now}\n",
    "    \n",
    "    %cd {HOME_DIR}"
   ]
  },
  {
   "cell_type": "code",
   "execution_count": 327,
   "id": "cb4a6f01",
   "metadata": {},
   "outputs": [
    {
     "name": "stdout",
     "output_type": "stream",
     "text": [
      "/home/ubuntu/dreambooth/models/side_view_inpaint\n"
     ]
    }
   ],
   "source": [
    "# %cd {OUTPUT_DIR}\n",
    "# !rm -rf ./*"
   ]
  },
  {
   "cell_type": "code",
   "execution_count": 323,
   "id": "1bda764a",
   "metadata": {},
   "outputs": [
    {
     "name": "stdout",
     "output_type": "stream",
     "text": [
      "/home/ubuntu/dreambooth/dreambooth_inpaining\n"
     ]
    }
   ],
   "source": [
    "%cd {HOME_DIR}"
   ]
  },
  {
   "cell_type": "code",
   "execution_count": 328,
   "id": "a930e3fa",
   "metadata": {},
   "outputs": [],
   "source": [
    "#!wget https://raw.githubusercontent.com/V4-69/dreambooth_inpainting_c/main/train_dreambooth_inpaint_V2.py\n",
    "\n",
    "#!cp -R -T '/home/ubuntu/dreambooth/data/side_view_1/instance_images' $INSTANCE_DIR\n",
    "#!cp -R -T '/home/ubuntu/dreambooth/data/side_view_1/captions' $CAPTIONS_DIR"
   ]
  },
  {
   "cell_type": "code",
   "execution_count": 329,
   "id": "f0436eca",
   "metadata": {
    "scrolled": false
   },
   "outputs": [
    {
     "name": "stdout",
     "output_type": "stream",
     "text": [
      "/home/ubuntu/dreambooth/dreambooth_inpaining\n",
      "The following values were not passed to `accelerate launch` and had defaults used instead:\n",
      "\t`--num_processes` was set to a value of `1`\n",
      "\t`--num_machines` was set to a value of `1`\n",
      "\t`--mixed_precision` was set to a value of `'no'`\n",
      "\t`--dynamo_backend` was set to a value of `'no'`\n",
      "To avoid this warning pass in values for each of the problematic parameters or run `accelerate config`.\n",
      "/home/ubuntu/anaconda/lib/python3.9/site-packages/diffusers/utils/deprecation_utils.py:35: FutureWarning: It is deprecated to pass a pretrained model name or path to `from_config`.If you were trying to load a scheduler, please use <class 'diffusers.schedulers.scheduling_ddpm.DDPMScheduler'>.from_pretrained(...) instead. Otherwise, please make sure to pass a configuration dictionary instead. This functionality will be removed in v1.0.0.\n",
      "  warnings.warn(warning + message, FutureWarning)\n",
      "Progress:|███████████████          |:  60%|▌| 9/15 [00:07<00:03,  1.56it/s, loss \u001b[1;32mSAVING CHECKPOINT...2msideview  \u001b[0m\n",
      "\n",
      "Fetching 16 files: 100%|█████████████████████| 16/16 [00:00<00:00, 29524.36it/s]\u001b[A\n",
      "save_dir: /home/ubuntu/dreambooth/models/side_view_inpaint/_step_10 chkpth: /home/ubuntu/dreambooth/workspace/side_view_inpaint/side_view_inpaint_step_20\n",
      "Reshaping encoder.mid.attn_1.q.weight for SD format\n",
      "Reshaping encoder.mid.attn_1.k.weight for SD format\n",
      "Reshaping encoder.mid.attn_1.v.weight for SD format\n",
      "Reshaping encoder.mid.attn_1.proj_out.weight for SD format\n",
      "Reshaping decoder.mid.attn_1.q.weight for SD format\n",
      "Reshaping decoder.mid.attn_1.k.weight for SD format\n",
      "Reshaping decoder.mid.attn_1.v.weight for SD format\n",
      "Reshaping decoder.mid.attn_1.proj_out.weight for SD format\n",
      "Done, resuming training ...\u001b[0m\n",
      "Progress:|█████████████████████████|: 100%|█| 15/15 [00:35<00:00,  1.85s/it, los \u001b[0;32msideview  \u001b[0m \u001b[0;32msideview  \u001b[0m\n",
      "Fetching 16 files: 100%|█████████████████████| 16/16 [00:00<00:00, 27985.35it/s]\u001b[A\n",
      "Progress:|█████████████████████████|: 100%|█| 15/15 [00:44<00:00,  2.98s/it, los\n"
     ]
    }
   ],
   "source": [
    "%cd {HOME_DIR}\n",
    "for idx in range(stop_text_encoder_training, all_train_steps + stop_text_encoder_training, stop_text_encoder_training):\n",
    "    \n",
    "    \n",
    "    res = train(pretrained_model_name_or_path, stop_text_encoder_training, max_train_steps, resume_from_checkpoint)\n",
    "    \n",
    "    break\n",
    "    \n",
    "    file_name = str(max_train_steps)\n",
    "    save(file_name)\n",
    "    delete_old_checkpoint()\n",
    "\n",
    "\n",
    "    pretrained_model_name_or_path = output_dir\n",
    "    stop_text_encoder_training = 0\n",
    "    max_train_steps += save_n_steps\n",
    "    resume_from_checkpoint = \"latest\""
   ]
  },
  {
   "cell_type": "code",
   "execution_count": 232,
   "id": "17dd3bd3",
   "metadata": {},
   "outputs": [
    {
     "ename": "NameError",
     "evalue": "name 'args' is not defined",
     "output_type": "error",
     "traceback": [
      "\u001b[0;31m---------------------------------------------------------------------------\u001b[0m",
      "\u001b[0;31mNameError\u001b[0m                                 Traceback (most recent call last)",
      "\u001b[0;32m/tmp/ipykernel_3210/1316818712.py\u001b[0m in \u001b[0;36m<module>\u001b[0;34m\u001b[0m\n\u001b[0;32m----> 1\u001b[0;31m \u001b[0margs\u001b[0m\u001b[0;34m.\u001b[0m\u001b[0mSession_dir\u001b[0m\u001b[0;34m[\u001b[0m\u001b[0;34m-\u001b[0m\u001b[0margs\u001b[0m\u001b[0;34m.\u001b[0m\u001b[0mSession_dir\u001b[0m\u001b[0;34m[\u001b[0m\u001b[0;34m:\u001b[0m\u001b[0;34m:\u001b[0m\u001b[0;34m-\u001b[0m\u001b[0;36m1\u001b[0m\u001b[0;34m]\u001b[0m\u001b[0;34m.\u001b[0m\u001b[0mfind\u001b[0m\u001b[0;34m(\u001b[0m\u001b[0;34m'/'\u001b[0m\u001b[0;34m)\u001b[0m\u001b[0;34m:\u001b[0m\u001b[0;34m]\u001b[0m\u001b[0;34m\u001b[0m\u001b[0;34m\u001b[0m\u001b[0m\n\u001b[0m",
      "\u001b[0;31mNameError\u001b[0m: name 'args' is not defined"
     ]
    }
   ],
   "source": [
    "args.Session_dir[-args.Session_dir[::-1].find('/'):] + '_step_20' + '_fp16_' "
   ]
  },
  {
   "cell_type": "code",
   "execution_count": 235,
   "id": "73b3696e",
   "metadata": {},
   "outputs": [
    {
     "data": {
      "text/plain": [
       "'side_view_inpaint_step_20_fp16_'"
      ]
     },
     "execution_count": 235,
     "metadata": {},
     "output_type": "execute_result"
    }
   ],
   "source": [
    "session_dir[-session_dir[::-1].find('/'):] + '_step_20' + '_fp16_' "
   ]
  },
  {
   "cell_type": "code",
   "execution_count": 223,
   "id": "8cf6eb55",
   "metadata": {},
   "outputs": [],
   "source": [
    "save_dir = '/home/ubuntu/dreambooth/models/side_view_inpaint/_step_20'\n",
    "chkpth = '/home/ubuntu/dreambooth/workspace/side_view_inpaint/_step_20.ckpt'\n",
    "home_dir = HOME_DIR"
   ]
  },
  {
   "cell_type": "code",
   "execution_count": 224,
   "id": "f5d67e84",
   "metadata": {},
   "outputs": [
    {
     "name": "stdout",
     "output_type": "stream",
     "text": [
      "Reshaping encoder.mid.attn_1.q.weight for SD format\n",
      "Reshaping encoder.mid.attn_1.k.weight for SD format\n",
      "Reshaping encoder.mid.attn_1.v.weight for SD format\n",
      "Reshaping encoder.mid.attn_1.proj_out.weight for SD format\n",
      "Reshaping decoder.mid.attn_1.q.weight for SD format\n",
      "Reshaping decoder.mid.attn_1.k.weight for SD format\n",
      "Reshaping decoder.mid.attn_1.v.weight for SD format\n",
      "Reshaping decoder.mid.attn_1.proj_out.weight for SD format\n"
     ]
    },
    {
     "data": {
      "text/plain": [
       "0"
      ]
     },
     "execution_count": 224,
     "metadata": {},
     "output_type": "execute_result"
    }
   ],
   "source": [
    "subprocess.call(f'python {home_dir}/convert_diffusers_to_original_stable_diffusion.py --model_path {save_dir} --checkpoint_path {chkpth} --half', shell=True)"
   ]
  },
  {
   "cell_type": "code",
   "execution_count": 206,
   "id": "e4cdb71e",
   "metadata": {},
   "outputs": [
    {
     "data": {
      "text/plain": [
       "'/home/ubuntu/dreambooth/workspace/side_view_inpaint/ambooth/models/side_view_inpaint_step_20.ckpt'"
      ]
     },
     "execution_count": 206,
     "metadata": {},
     "output_type": "execute_result"
    }
   ],
   "source": [
    "chkpth"
   ]
  },
  {
   "cell_type": "code",
   "execution_count": 209,
   "id": "f475543e",
   "metadata": {},
   "outputs": [
    {
     "data": {
      "text/plain": [
       "'/home/ubuntu/dreambooth/models/side_view_inpaint'"
      ]
     },
     "execution_count": 209,
     "metadata": {},
     "output_type": "execute_result"
    }
   ],
   "source": [
    "output_dir"
   ]
  },
  {
   "cell_type": "code",
   "execution_count": 214,
   "id": "aab004d1",
   "metadata": {},
   "outputs": [
    {
     "data": {
      "text/plain": [
       "'/home/ubuntu/dreambooth/models/side_view_inpaint_step_20'"
      ]
     },
     "execution_count": 214,
     "metadata": {},
     "output_type": "execute_result"
    }
   ],
   "source": [
    "save_dir"
   ]
  },
  {
   "cell_type": "code",
   "execution_count": 236,
   "id": "5e195c45",
   "metadata": {},
   "outputs": [
    {
     "data": {
      "text/plain": [
       "'/home/ubuntu/dreambooth/workspace/side_view_inpaint'"
      ]
     },
     "execution_count": 236,
     "metadata": {},
     "output_type": "execute_result"
    }
   ],
   "source": [
    "session_dir"
   ]
  },
  {
   "cell_type": "code",
   "execution_count": 100,
   "id": "0d02cf10",
   "metadata": {},
   "outputs": [
    {
     "data": {
      "text/plain": [
       "'/home/ubuntu/dreambooth/models/side_view_inpaint'"
      ]
     },
     "execution_count": 100,
     "metadata": {},
     "output_type": "execute_result"
    }
   ],
   "source": [
    "output_dir"
   ]
  },
  {
   "cell_type": "code",
   "execution_count": 102,
   "id": "0aea7935",
   "metadata": {},
   "outputs": [
    {
     "data": {
      "text/plain": [
       "'/home/ubuntu/dreambooth/dreambooth_inpaining/'"
      ]
     },
     "execution_count": 102,
     "metadata": {},
     "output_type": "execute_result"
    }
   ],
   "source": [
    "HOME_DIR"
   ]
  },
  {
   "cell_type": "code",
   "execution_count": null,
   "id": "e6dda689",
   "metadata": {},
   "outputs": [],
   "source": []
  },
  {
   "cell_type": "code",
   "execution_count": null,
   "id": "0a020cc7",
   "metadata": {},
   "outputs": [],
   "source": []
  },
  {
   "cell_type": "code",
   "execution_count": 53,
   "id": "5bce191f",
   "metadata": {},
   "outputs": [
    {
     "name": "stdout",
     "output_type": "stream",
     "text": [
      "\n",
      "accelerate launch train_dreambooth_inpaint_V2.py     --image_captions_filename     --gradient_checkpointing     --train_only_unet     --pretrained_model_name_or_path=\"runwayml/stable-diffusion-inpainting\"     --instance_data_dir=\"/home/ubuntu/dreambooth/workspace/side_view_inpaint/instance_images\"     --instance_prompt=\"\"     --output_dir=\"/home/ubuntu/dreambooth/models/side_view_inpaint\"     --seed=781956     --resolution=512     --stop_text_encoder_training=20     --save_starting_step=0     --save_n_steps=20     --session_dir=\"/home/ubuntu/dreambooth/workspace/side_view_inpaint\"     --captions_dir=\"/home/ubuntu/dreambooth/workspace/side_view_inpaint/captions\"     --mixed_precision=\"fp16\"     --train_batch_size=1     --gradient_accumulation_steps=1     --learning_rate=1e-05     --lr_scheduler=\"polynomial\"     --lr_warmup_steps=0     --max_train_steps=20     --resume_from_checkpoint=None\n",
      "\n"
     ]
    }
   ],
   "source": [
    "image_captions_filename_arg = ''\n",
    "if image_captions_filename:\n",
    "    image_captions_filename_arg = '--image_captions_filename'\n",
    "\n",
    "gradient_checkpointing_arg = ''\n",
    "if gradient_checkpointing:\n",
    "    gradient_checkpointing_arg = '--gradient_checkpointing'\n",
    "\n",
    "train_only_unet_arg = ''\n",
    "if train_only_unet:\n",
    "    train_only_unet_arg = '--train_only_unet'\n",
    "\n",
    "command = f'''\n",
    "accelerate launch train_dreambooth_inpaint_V2.py \\\n",
    "    {image_captions_filename_arg} \\\n",
    "    {gradient_checkpointing_arg} \\\n",
    "    {train_only_unet_arg} \\\n",
    "    --pretrained_model_name_or_path=\"{pretrained_model_name_or_path}\" \\\n",
    "    --instance_data_dir=\"{instance_data_dir}\" \\\n",
    "    --instance_prompt=\"{instance_prompt}\" \\\n",
    "    --output_dir=\"{output_dir}\" \\\n",
    "    --seed={seed} \\\n",
    "    --resolution={resolution} \\\n",
    "    --stop_text_encoder_training={stop_text_encoder_training} \\\n",
    "    --save_starting_step={save_starting_step} \\\n",
    "    --save_n_steps={save_n_steps} \\\n",
    "    --session_dir=\"{session_dir}\" \\\n",
    "    --captions_dir=\"{captions_dir}\" \\\n",
    "    --mixed_precision=\"{mixed_precision}\" \\\n",
    "    --train_batch_size={train_batch_size} \\\n",
    "    --gradient_accumulation_steps={gradient_accumulation_steps} \\\n",
    "    --learning_rate={learning_rate} \\\n",
    "    --lr_scheduler=\"{lr_scheduler}\" \\\n",
    "    --lr_warmup_steps={lr_warmup_steps} \\\n",
    "    --max_train_steps={max_train_steps} \\\n",
    "    --resume_from_checkpoint={resume_from_checkpoint}\n",
    "'''\n",
    "print(command)"
   ]
  },
  {
   "cell_type": "code",
   "execution_count": 62,
   "id": "25bcd870",
   "metadata": {},
   "outputs": [
    {
     "name": "stdout",
     "output_type": "stream",
     "text": [
      "convert_diffusers_to_original_stable_diffusion.py\r\n",
      "requirements.txt\r\n",
      "train_dreambooth_inpaint.py\r\n",
      "train_dreambooth_inpaint_V2.py\r\n"
     ]
    }
   ],
   "source": [
    "ls"
   ]
  },
  {
   "cell_type": "code",
   "execution_count": 96,
   "id": "81863d39",
   "metadata": {},
   "outputs": [
    {
     "name": "stdout",
     "output_type": "stream",
     "text": [
      "/home/ubuntu/dreambooth/models/side_view_inpaint\n"
     ]
    }
   ],
   "source": []
  },
  {
   "cell_type": "code",
   "execution_count": 97,
   "id": "4e702f13",
   "metadata": {},
   "outputs": [
    {
     "name": "stdout",
     "output_type": "stream",
     "text": [
      "\u001b[0m\u001b[01;34mfeature_extractor\u001b[0m/  model_index.json  \u001b[01;34mscheduler\u001b[0m/     \u001b[01;34mtokenizer\u001b[0m/  \u001b[01;34mvae\u001b[0m/\r\n",
      "\u001b[01;34mlogs\u001b[0m/               \u001b[01;34msafety_checker\u001b[0m/   \u001b[01;34mtext_encoder\u001b[0m/  \u001b[01;34munet\u001b[0m/\r\n"
     ]
    }
   ],
   "source": [
    "ls"
   ]
  },
  {
   "cell_type": "code",
   "execution_count": 269,
   "id": "58cfccf1",
   "metadata": {},
   "outputs": [
    {
     "name": "stdout",
     "output_type": "stream",
     "text": [
      "/home/ubuntu/dreambooth/models/side_view_inpaint\n"
     ]
    }
   ],
   "source": []
  },
  {
   "cell_type": "code",
   "execution_count": 248,
   "id": "47147069",
   "metadata": {},
   "outputs": [
    {
     "name": "stdout",
     "output_type": "stream",
     "text": [
      "\u001b[0m\u001b[01;34mside_view_inpaint\u001b[0m/  \u001b[01;34mside_view_inpaint_step_20\u001b[0m/  \u001b[01;34msideviewinp7\u001b[0m/  \u001b[01;34msideviewinp8\u001b[0m/\r\n"
     ]
    }
   ],
   "source": [
    "ls"
   ]
  },
  {
   "cell_type": "code",
   "execution_count": 249,
   "id": "d59dada3",
   "metadata": {},
   "outputs": [
    {
     "name": "stdout",
     "output_type": "stream",
     "text": [
      "/home/ubuntu/dreambooth/models/side_view_inpaint_step_20\n"
     ]
    }
   ],
   "source": [
    "%cd '/home/ubuntu/dreambooth/models/side_view_inpaint_step_20'"
   ]
  },
  {
   "cell_type": "code",
   "execution_count": null,
   "id": "61ca762e",
   "metadata": {},
   "outputs": [],
   "source": []
  }
 ],
 "metadata": {
  "kernelspec": {
   "display_name": "Python 3 (ipykernel)",
   "language": "python",
   "name": "python3"
  },
  "language_info": {
   "codemirror_mode": {
    "name": "ipython",
    "version": 3
   },
   "file_extension": ".py",
   "mimetype": "text/x-python",
   "name": "python",
   "nbconvert_exporter": "python",
   "pygments_lexer": "ipython3",
   "version": "3.9.7"
  }
 },
 "nbformat": 4,
 "nbformat_minor": 5
}
