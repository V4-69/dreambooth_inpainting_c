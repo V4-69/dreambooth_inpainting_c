{
 "cells": [
  {
   "cell_type": "code",
   "execution_count": 1,
   "id": "e3e4bd7c",
   "metadata": {},
   "outputs": [
    {
     "data": {
      "text/html": [
       "<style>.container { width:95% !important; }</style>"
      ],
      "text/plain": [
       "<IPython.core.display.HTML object>"
      ]
     },
     "metadata": {},
     "output_type": "display_data"
    }
   ],
   "source": [
    "from IPython.core.display import display, HTML\n",
    "display(HTML(\"<style>.container { width:95% !important; }</style>\"))"
   ]
  },
  {
   "cell_type": "code",
   "execution_count": 2,
   "id": "45afe267",
   "metadata": {},
   "outputs": [
    {
     "name": "stdout",
     "output_type": "stream",
     "text": [
      "/home/ubuntu/dreambooth/dreambooth_inpaining\n"
     ]
    }
   ],
   "source": [
    "%cd '/home/ubuntu/dreambooth/dreambooth_inpaining/'"
   ]
  },
  {
   "cell_type": "code",
   "execution_count": 3,
   "id": "593b27cd",
   "metadata": {},
   "outputs": [
    {
     "name": "stdout",
     "output_type": "stream",
     "text": [
      "convert_diffusers_to_original_stable_diffusion.py\r\n",
      "requirements.txt\r\n",
      "train_dreambooth_inpaint.py\r\n",
      "train_dreambooth_inpaint_V2.py\r\n"
     ]
    }
   ],
   "source": [
    "ls\n"
   ]
  },
  {
   "cell_type": "code",
   "execution_count": 4,
   "id": "2ff8505a",
   "metadata": {},
   "outputs": [],
   "source": [
    "SESSION_DIR = '/home/ubuntu/dreambooth/workspace/sideviewinp3'\n",
    "Session_Name = 'sideviewinp3'\n",
    "OUTPUT_DIR = '/home/ubuntu/dreambooth/models/sideviewinp3'"
   ]
  },
  {
   "cell_type": "code",
   "execution_count": 5,
   "id": "4cb1d402",
   "metadata": {},
   "outputs": [
    {
     "name": "stdout",
     "output_type": "stream",
     "text": [
      "Reshaping encoder.mid.attn_1.q.weight for SD format\n",
      "Reshaping encoder.mid.attn_1.k.weight for SD format\n",
      "Reshaping encoder.mid.attn_1.v.weight for SD format\n",
      "Reshaping encoder.mid.attn_1.proj_out.weight for SD format\n",
      "Reshaping decoder.mid.attn_1.q.weight for SD format\n",
      "Reshaping decoder.mid.attn_1.k.weight for SD format\n",
      "Reshaping decoder.mid.attn_1.v.weight for SD format\n",
      "Reshaping decoder.mid.attn_1.proj_out.weight for SD format\n",
      "[*] Converted ckpt saved at /home/ubuntu/dreambooth/workspace/sideviewinp3/sideviewinp3-1400-16-v2-inpainting.ckpt\n"
     ]
    }
   ],
   "source": [
    "ckpt_path = SESSION_DIR + \"/\"  + Session_Name + \"-1400-16-v2-inpainting.ckpt\"\n",
    "\n",
    "fp16 = True\n",
    "half_arg = ''\n",
    "if fp16:\n",
    "    half_arg = \"--half\"\n",
    "\n",
    "!python convert_diffusers_to_original_stable_diffusion.py --model_path $OUTPUT_DIR --checkpoint_path $ckpt_path $half_arg\n",
    "print(f\"[*] Converted ckpt saved at {ckpt_path}\")"
   ]
  },
  {
   "cell_type": "code",
   "execution_count": null,
   "id": "c956b48f",
   "metadata": {},
   "outputs": [],
   "source": []
  },
  {
   "cell_type": "code",
   "execution_count": null,
   "id": "a42441f2",
   "metadata": {},
   "outputs": [],
   "source": []
  },
  {
   "cell_type": "code",
   "execution_count": null,
   "id": "eba65e53",
   "metadata": {},
   "outputs": [],
   "source": []
  },
  {
   "cell_type": "code",
   "execution_count": 16,
   "id": "1612beda",
   "metadata": {},
   "outputs": [
    {
     "name": "stdout",
     "output_type": "stream",
     "text": [
      "Reshaping encoder.mid.attn_1.q.weight for SD format\n",
      "Reshaping encoder.mid.attn_1.k.weight for SD format\n",
      "Reshaping encoder.mid.attn_1.v.weight for SD format\n",
      "Reshaping encoder.mid.attn_1.proj_out.weight for SD format\n",
      "Reshaping decoder.mid.attn_1.q.weight for SD format\n",
      "Reshaping decoder.mid.attn_1.k.weight for SD format\n",
      "Reshaping decoder.mid.attn_1.v.weight for SD format\n",
      "Reshaping decoder.mid.attn_1.proj_out.weight for SD format\n",
      "[*] Converted ckpt saved at /home/ubuntu/dreambooth/workspace/sideviewinp2/sideviewinp2-1000-16-v2-inpainting.ckpt\n"
     ]
    }
   ],
   "source": [
    "ckpt_path = SESSION_DIR + \"/\"  + Session_Name + \"-1400-32-v2-inpainting.ckpt\"\n",
    "\n",
    "fp16 = False\n",
    "half_arg = ''\n",
    "if fp16:\n",
    "    half_arg = \"--half\"\n",
    "\n",
    "!python convert_diffusers_to_original_stable_diffusion.py --model_path $OUTPUT_DIR --checkpoint_path $ckpt_path $half_arg\n",
    "print(f\"[*] Converted ckpt saved at {ckpt_path}\")"
   ]
  },
  {
   "cell_type": "code",
   "execution_count": null,
   "id": "00860e45",
   "metadata": {},
   "outputs": [],
   "source": []
  }
 ],
 "metadata": {
  "kernelspec": {
   "display_name": "Python 3 (ipykernel)",
   "language": "python",
   "name": "python3"
  },
  "language_info": {
   "codemirror_mode": {
    "name": "ipython",
    "version": 3
   },
   "file_extension": ".py",
   "mimetype": "text/x-python",
   "name": "python",
   "nbconvert_exporter": "python",
   "pygments_lexer": "ipython3",
   "version": "3.9.7"
  }
 },
 "nbformat": 4,
 "nbformat_minor": 5
}
