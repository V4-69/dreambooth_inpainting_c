{
 "cells": [
  {
   "cell_type": "code",
   "execution_count": 1,
   "id": "02b716c2",
   "metadata": {},
   "outputs": [
    {
     "data": {
      "text/html": [
       "<style>.container { width:95% !important; }</style>"
      ],
      "text/plain": [
       "<IPython.core.display.HTML object>"
      ]
     },
     "metadata": {},
     "output_type": "display_data"
    }
   ],
   "source": [
    "from IPython.core.display import display, HTML\n",
    "display(HTML(\"<style>.container { width:95% !important; }</style>\"))"
   ]
  },
  {
   "cell_type": "code",
   "execution_count": 2,
   "id": "d5c9f153",
   "metadata": {},
   "outputs": [],
   "source": [
    "import os\n",
    "import random\n",
    "import numpy as np"
   ]
  },
  {
   "cell_type": "code",
   "execution_count": 3,
   "id": "6345c076",
   "metadata": {},
   "outputs": [
    {
     "name": "stdout",
     "output_type": "stream",
     "text": [
      "/home/ubuntu/dreambooth/models\n",
      "mkdir: cannot create directory ‘side_view_inpaint_200’: File exists\r\n"
     ]
    }
   ],
   "source": [
    "Session_Name = 'side_view_inpaint_200'\n",
    "\n",
    "%cd '/home/ubuntu/dreambooth/models/'\n",
    "!mkdir $Session_Name\n",
    "\n",
    "OUTPUT_DIR = '/home/ubuntu/dreambooth/models/' + Session_Name"
   ]
  },
  {
   "cell_type": "code",
   "execution_count": 4,
   "id": "0ba07f81",
   "metadata": {},
   "outputs": [
    {
     "name": "stdout",
     "output_type": "stream",
     "text": [
      "/home/ubuntu/dreambooth/workspace\n",
      "mkdir: cannot create directory ‘side_view_inpaint_200’: File exists\r\n"
     ]
    }
   ],
   "source": [
    "%cd '/home/ubuntu/dreambooth/workspace'\n",
    "!mkdir $Session_Name"
   ]
  },
  {
   "cell_type": "code",
   "execution_count": 5,
   "id": "56fa015d",
   "metadata": {},
   "outputs": [
    {
     "name": "stdout",
     "output_type": "stream",
     "text": [
      "/home/ubuntu/dreambooth/workspace/side_view_inpaint_200\n",
      "mkdir: cannot create directory ‘instance_images’: File exists\n",
      "mkdir: cannot create directory ‘captions’: File exists\n"
     ]
    }
   ],
   "source": [
    "SESSION_DIR = '/home/ubuntu/dreambooth/workspace/' + Session_Name\n",
    "\n",
    "%cd $SESSION_DIR\n",
    "!mkdir instance_images\n",
    "!mkdir captions\n",
    "\n",
    "INSTANCE_DIR = SESSION_DIR +'/instance_images'\n",
    "#CONCEPT_DIR = SESSION_DIR + '/concept_images'\n",
    "#CAPTIONS_DIR = SESSION_DIR + '/captions'\n",
    "MDLPTH = str(SESSION_DIR + \"/\" + Session_Name + '.ckpt')"
   ]
  },
  {
   "cell_type": "code",
   "execution_count": 6,
   "id": "ab84a7ab",
   "metadata": {},
   "outputs": [
    {
     "data": {
      "text/plain": [
       "'/home/ubuntu/dreambooth/workspace/side_view_inpaint_200/instance_images'"
      ]
     },
     "execution_count": 6,
     "metadata": {},
     "output_type": "execute_result"
    }
   ],
   "source": [
    "INSTANCE_DIR"
   ]
  },
  {
   "cell_type": "code",
   "execution_count": 7,
   "id": "4182b98a",
   "metadata": {},
   "outputs": [
    {
     "name": "stdout",
     "output_type": "stream",
     "text": [
      "/home/ubuntu/dreambooth/dreambooth_inpaining\n"
     ]
    }
   ],
   "source": [
    "%cd '/home/ubuntu/dreambooth/dreambooth_inpaining/'"
   ]
  },
  {
   "cell_type": "code",
   "execution_count": 8,
   "id": "d5f91b89",
   "metadata": {},
   "outputs": [],
   "source": [
    "#!wget -q https://raw.githubusercontent.com/V4-69/dreambooth_inpainting_c/main/train_dreambooth_inpaint_V2.py"
   ]
  },
  {
   "cell_type": "code",
   "execution_count": 9,
   "id": "65058203",
   "metadata": {},
   "outputs": [
    {
     "name": "stdout",
     "output_type": "stream",
     "text": [
      "convert_diffusers_to_original_stable_diffusion.py\r\n",
      "requirements.txt\r\n",
      "train_dreambooth_inpaint.py\r\n",
      "train_dreambooth_inpaint_V2.py\r\n"
     ]
    }
   ],
   "source": [
    "ls"
   ]
  },
  {
   "cell_type": "code",
   "execution_count": null,
   "id": "b8aa84c8",
   "metadata": {},
   "outputs": [],
   "source": []
  },
  {
   "cell_type": "code",
   "execution_count": 12,
   "id": "c05404e2",
   "metadata": {},
   "outputs": [],
   "source": [
    "HOME_DIR = '/home/ubuntu/dreambooth/dreambooth_inpaining/'"
   ]
  },
  {
   "cell_type": "code",
   "execution_count": 8,
   "id": "f338a1d9",
   "metadata": {},
   "outputs": [
    {
     "data": {
      "text/plain": [
       "'/home/ubuntu/dreambooth/workspace/side_view_inpaint_200'"
      ]
     },
     "execution_count": 8,
     "metadata": {},
     "output_type": "execute_result"
    }
   ],
   "source": [
    "SESSION_DIR"
   ]
  },
  {
   "cell_type": "code",
   "execution_count": 9,
   "id": "7a925a7f",
   "metadata": {},
   "outputs": [
    {
     "data": {
      "text/plain": [
       "'/home/ubuntu/dreambooth/models/side_view_inpaint_200'"
      ]
     },
     "execution_count": 9,
     "metadata": {},
     "output_type": "execute_result"
    }
   ],
   "source": [
    "OUTPUT_DIR"
   ]
  },
  {
   "cell_type": "code",
   "execution_count": 11,
   "id": "ebb9132c",
   "metadata": {},
   "outputs": [
    {
     "name": "stdout",
     "output_type": "stream",
     "text": [
      "/home/ubuntu/dreambooth/models/side_view_inpaint_200\n"
     ]
    }
   ],
   "source": []
  },
  {
   "cell_type": "code",
   "execution_count": null,
   "id": "8cc62df5",
   "metadata": {},
   "outputs": [],
   "source": []
  },
  {
   "cell_type": "code",
   "execution_count": null,
   "id": "53dd8df8",
   "metadata": {},
   "outputs": [],
   "source": []
  },
  {
   "cell_type": "code",
   "execution_count": null,
   "id": "ee7dbd2d",
   "metadata": {},
   "outputs": [],
   "source": []
  },
  {
   "cell_type": "code",
   "execution_count": 10,
   "id": "5efb8951",
   "metadata": {},
   "outputs": [],
   "source": [
    "Style = ''\n",
    "extrnlcptn = \"--external_captions\"\n",
    "Text_Encoder_Training_Steps = 200\n",
    "stpsv = 0\n",
    "stp = 0\n",
    "CAPTIONS_DIR = SESSION_DIR + \"/captions\"\n",
    "PT = ''\n",
    "precision = \"fp16\"\n",
    "GC = \"--gradient_checkpointing\"\n",
    "#lr_scheduler=\"constant\"\n",
    "untlr = 1e-05\n",
    "UNet_Training_Steps = 1400\n",
    "\n",
    "Seed='' \n",
    "if Seed =='' or Seed=='0':\n",
    "    Seed=random.randint(1, 999999)\n",
    "else:\n",
    "    Seed=int(Seed)"
   ]
  },
  {
   "cell_type": "code",
   "execution_count": 11,
   "id": "c37dc263",
   "metadata": {},
   "outputs": [
    {
     "data": {
      "text/plain": [
       "1400"
      ]
     },
     "execution_count": 11,
     "metadata": {},
     "output_type": "execute_result"
    }
   ],
   "source": [
    "UNet_Training_Steps"
   ]
  },
  {
   "cell_type": "code",
   "execution_count": 12,
   "id": "072279b0",
   "metadata": {},
   "outputs": [
    {
     "data": {
      "text/plain": [
       "'/home/ubuntu/dreambooth/workspace/sideviewinp6/captions'"
      ]
     },
     "execution_count": 12,
     "metadata": {},
     "output_type": "execute_result"
    }
   ],
   "source": [
    "CAPTIONS_DIR"
   ]
  },
  {
   "cell_type": "code",
   "execution_count": 13,
   "id": "d6ce18de",
   "metadata": {},
   "outputs": [
    {
     "data": {
      "text/plain": [
       "'/home/ubuntu/dreambooth/workspace/sideviewinp6'"
      ]
     },
     "execution_count": 13,
     "metadata": {},
     "output_type": "execute_result"
    }
   ],
   "source": [
    "SESSION_DIR"
   ]
  },
  {
   "cell_type": "code",
   "execution_count": 14,
   "id": "704e090c",
   "metadata": {},
   "outputs": [],
   "source": [
    "#!cp -R -T '/home/ubuntu/dreambooth/workspace/sideviewinp4/instance_images' $INSTANCE_DIR\n",
    "#!cp -R -T '/home/ubuntu/dreambooth/workspace/sideviewinp4/captions' $CAPTIONS_DIR"
   ]
  },
  {
   "cell_type": "code",
   "execution_count": 15,
   "id": "35c66626",
   "metadata": {},
   "outputs": [
    {
     "name": "stdout",
     "output_type": "stream",
     "text": [
      "The following values were not passed to `accelerate launch` and had defaults used instead:\n",
      "\t`--num_processes` was set to a value of `1`\n",
      "\t`--num_machines` was set to a value of `1`\n",
      "\t`--mixed_precision` was set to a value of `'no'`\n",
      "\t`--dynamo_backend` was set to a value of `'no'`\n",
      "To avoid this warning pass in values for each of the problematic parameters or run `accelerate config`.\n",
      "/home/ubuntu/anaconda/lib/python3.9/site-packages/diffusers/utils/deprecation_utils.py:35: FutureWarning: It is deprecated to pass a pretrained model name or path to `from_config`.If you were trying to load a scheduler, please use <class 'diffusers.schedulers.scheduling_ddpm.DDPMScheduler'>.from_pretrained(...) instead. Otherwise, please make sure to pass a configuration dictionary instead. This functionality will be removed in v1.0.0.\n",
      "  warnings.warn(warning + message, FutureWarning)\n",
      "Traceback (most recent call last):\n",
      "  File \"/home/ubuntu/dreambooth/dreambooth_inpaining/train_dreambooth_inpaint_V2.py\", line 952, in <module>\n",
      "    main()\n",
      "  File \"/home/ubuntu/dreambooth/dreambooth_inpaining/train_dreambooth_inpaint_V2.py\", line 679, in main\n",
      "    train_dataloader = torch.utils.data.DataLoader(\n",
      "  File \"/home/ubuntu/anaconda/lib/python3.9/site-packages/torch/utils/data/dataloader.py\", line 344, in __init__\n",
      "    sampler = RandomSampler(dataset, generator=generator)  # type: ignore[arg-type]\n",
      "  File \"/home/ubuntu/anaconda/lib/python3.9/site-packages/torch/utils/data/sampler.py\", line 107, in __init__\n",
      "    raise ValueError(\"num_samples should be a positive integer \"\n",
      "ValueError: num_samples should be a positive integer value, but got num_samples=0\n",
      "Traceback (most recent call last):\n",
      "  File \"/home/ubuntu/anaconda/bin/accelerate\", line 8, in <module>\n",
      "    sys.exit(main())\n",
      "  File \"/home/ubuntu/anaconda/lib/python3.9/site-packages/accelerate/commands/accelerate_cli.py\", line 45, in main\n",
      "    args.func(args)\n",
      "  File \"/home/ubuntu/anaconda/lib/python3.9/site-packages/accelerate/commands/launch.py\", line 1104, in launch_command\n",
      "    simple_launcher(args)\n",
      "  File \"/home/ubuntu/anaconda/lib/python3.9/site-packages/accelerate/commands/launch.py\", line 567, in simple_launcher\n",
      "    raise subprocess.CalledProcessError(returncode=process.returncode, cmd=cmd)\n",
      "subprocess.CalledProcessError: Command '['/home/ubuntu/anaconda/bin/python', 'train_dreambooth_inpaint_V2.py', '--external_captions', '--stop_text_encoder_training=200', '--image_captions_filename', '--train_only_unet', '--save_starting_step=0', '--save_n_steps=0', '--Session_dir=/home/ubuntu/dreambooth/workspace/sideviewinp6', '--pretrained_model_name_or_path=runwayml/stable-diffusion-inpainting', '--instance_data_dir=/home/ubuntu/dreambooth/workspace/sideviewinp6/instance_images', '--output_dir=/home/ubuntu/dreambooth/models/sideviewinp6', '--captions_dir=/home/ubuntu/dreambooth/workspace/sideviewinp6/captions', '--instance_prompt=', '--seed=752146', '--resolution=512', '--mixed_precision=fp16', '--train_batch_size=1', '--gradient_accumulation_steps=1', '--gradient_checkpointing', '--learning_rate=1e-05', '--lr_scheduler=polynomial', '--lr_warmup_steps=0', '--max_train_steps=1400']' returned non-zero exit status 1.\n"
     ]
    }
   ],
   "source": [
    "!accelerate launch train_dreambooth_inpaint_V2.py \\\n",
    "    $Style \\\n",
    "    $extrnlcptn \\\n",
    "    --stop_text_encoder_training=$Text_Encoder_Training_Steps \\\n",
    "    --image_captions_filename \\\n",
    "    --train_only_unet \\\n",
    "    --save_starting_step=$stpsv \\\n",
    "    --save_n_steps=$stp \\\n",
    "    --Session_dir=$SESSION_DIR \\\n",
    "    --pretrained_model_name_or_path=\"runwayml/stable-diffusion-inpainting\" \\\n",
    "    --instance_data_dir=$INSTANCE_DIR \\\n",
    "    --output_dir=$OUTPUT_DIR \\\n",
    "    --captions_dir=\"$CAPTIONS_DIR\" \\\n",
    "    --instance_prompt=\"$PT\" \\\n",
    "    --seed=$Seed \\\n",
    "    --resolution=512 \\\n",
    "    --mixed_precision=$precision \\\n",
    "    --train_batch_size=1 \\\n",
    "    --gradient_accumulation_steps=1 $GC \\\n",
    "    --learning_rate=$untlr \\\n",
    "    --lr_scheduler=\"polynomial\" \\\n",
    "    --lr_warmup_steps=0 \\\n",
    "    --max_train_steps=$UNet_Training_Steps"
   ]
  },
  {
   "cell_type": "code",
   "execution_count": null,
   "id": "1beecfdd",
   "metadata": {},
   "outputs": [],
   "source": [
    "ckpt_path = SESSION_DIR + \"/\"  + Session_Name + \"-1400-200-16-v2-inpainting.ckpt\"\n",
    "\n",
    "fp16 = True\n",
    "half_arg = ''\n",
    "if fp16:\n",
    "    half_arg = \"--half\"\n",
    "\n",
    "!python convert_diffusers_to_original_stable_diffusion.py --model_path $OUTPUT_DIR  --checkpoint_path $ckpt_path $half_arg\n",
    "print(f\"[*] Converted ckpt saved at {ckpt_path}\")"
   ]
  },
  {
   "cell_type": "code",
   "execution_count": null,
   "id": "9660492b",
   "metadata": {},
   "outputs": [],
   "source": []
  },
  {
   "cell_type": "code",
   "execution_count": 21,
   "id": "38e7d60c",
   "metadata": {},
   "outputs": [
    {
     "name": "stdout",
     "output_type": "stream",
     "text": [
      "Filesystem      Size  Used Avail Use% Mounted on\r\n",
      "udev             16G     0   16G   0% /dev\r\n",
      "tmpfs           3.2G  1.3M  3.2G   1% /run\r\n",
      "/dev/vda1       155G   47G  109G  31% /\r\n",
      "tmpfs            16G  164K   16G   1% /dev/shm\r\n",
      "tmpfs           5.0M     0  5.0M   0% /run/lock\r\n",
      "tmpfs            16G     0   16G   0% /sys/fs/cgroup\r\n",
      "/dev/loop1       64M   64M     0 100% /snap/core20/1778\r\n",
      "/dev/loop2       68M   68M     0 100% /snap/lxd/21835\r\n",
      "/dev/loop0       62M   62M     0 100% /snap/core20/1270\r\n",
      "/dev/vda15      105M  5.2M  100M   5% /boot/efi\r\n",
      "/dev/loop3       50M   50M     0 100% /snap/snapd/17883\r\n",
      "/dev/loop4       50M   50M     0 100% /snap/snapd/17950\r\n",
      "/dev/loop5       92M   92M     0 100% /snap/lxd/24061\r\n",
      "tmpfs           3.2G   20K  3.2G   1% /run/user/122\r\n",
      "tmpfs           3.2G  4.0K  3.2G   1% /run/user/1000\r\n"
     ]
    }
   ],
   "source": [
    "!df -h"
   ]
  },
  {
   "cell_type": "code",
   "execution_count": null,
   "id": "a41933b9",
   "metadata": {},
   "outputs": [],
   "source": []
  }
 ],
 "metadata": {
  "kernelspec": {
   "display_name": "Python 3 (ipykernel)",
   "language": "python",
   "name": "python3"
  },
  "language_info": {
   "codemirror_mode": {
    "name": "ipython",
    "version": 3
   },
   "file_extension": ".py",
   "mimetype": "text/x-python",
   "name": "python",
   "nbconvert_exporter": "python",
   "pygments_lexer": "ipython3",
   "version": "3.9.7"
  }
 },
 "nbformat": 4,
 "nbformat_minor": 5
}
